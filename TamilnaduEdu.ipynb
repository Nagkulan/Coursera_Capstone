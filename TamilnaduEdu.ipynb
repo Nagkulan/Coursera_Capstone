{
 "cells": [
  {
   "cell_type": "markdown",
   "metadata": {},
   "source": [
    "# The Education in Tamilnadu, India"
   ]
  },
  {
   "cell_type": "code",
   "execution_count": 2,
   "metadata": {},
   "outputs": [],
   "source": [
    "import pandas as pd\n",
    "import numpy as np"
   ]
  },
  {
   "cell_type": "code",
   "execution_count": 3,
   "metadata": {},
   "outputs": [
    {
     "name": "stdout",
     "output_type": "stream",
     "text": [
      "Collecting xlrd\n",
      "\u001b[?25l  Downloading https://files.pythonhosted.org/packages/b0/16/63576a1a001752e34bf8ea62e367997530dc553b689356b9879339cf45a4/xlrd-1.2.0-py2.py3-none-any.whl (103kB)\n",
      "\u001b[K     |████████████████████████████████| 112kB 14.3MB/s eta 0:00:01\n",
      "\u001b[?25hInstalling collected packages: xlrd\n",
      "Successfully installed xlrd-1.2.0\n",
      "Note: you may need to restart the kernel to use updated packages.\n"
     ]
    }
   ],
   "source": [
    "pip install xlrd"
   ]
  },
  {
   "cell_type": "markdown",
   "metadata": {},
   "source": [
    "### Reading Files with gender Data"
   ]
  },
  {
   "cell_type": "code",
   "execution_count": 4,
   "metadata": {},
   "outputs": [],
   "source": [
    "gender=pd.read_csv('enrollement_schoolmanagement_2.csv')"
   ]
  },
  {
   "cell_type": "code",
   "execution_count": 5,
   "metadata": {},
   "outputs": [
    {
     "data": {
      "text/html": [
       "<div>\n",
       "<style scoped>\n",
       "    .dataframe tbody tr th:only-of-type {\n",
       "        vertical-align: middle;\n",
       "    }\n",
       "\n",
       "    .dataframe tbody tr th {\n",
       "        vertical-align: top;\n",
       "    }\n",
       "\n",
       "    .dataframe thead th {\n",
       "        text-align: right;\n",
       "    }\n",
       "</style>\n",
       "<table border=\"1\" class=\"dataframe\">\n",
       "  <thead>\n",
       "    <tr style=\"text-align: right;\">\n",
       "      <th></th>\n",
       "      <th>S.No</th>\n",
       "      <th>District</th>\n",
       "      <th>Govt Boys</th>\n",
       "      <th>Govt Girls</th>\n",
       "      <th>Govt Total</th>\n",
       "      <th>Private Aided Boys</th>\n",
       "      <th>Private Aided Girls</th>\n",
       "      <th>Private Aided Total</th>\n",
       "      <th>Private Unaided Boys</th>\n",
       "      <th>Private Unaided Girls</th>\n",
       "      <th>Private Unaided Total</th>\n",
       "      <th>Grand Total Boys</th>\n",
       "      <th>Grand Total Girls</th>\n",
       "      <th>Grand Total</th>\n",
       "    </tr>\n",
       "  </thead>\n",
       "  <tbody>\n",
       "    <tr>\n",
       "      <th>0</th>\n",
       "      <td>1</td>\n",
       "      <td>ARIYALUR</td>\n",
       "      <td>37475</td>\n",
       "      <td>36642</td>\n",
       "      <td>74117</td>\n",
       "      <td>8822</td>\n",
       "      <td>12524</td>\n",
       "      <td>21346</td>\n",
       "      <td>20453</td>\n",
       "      <td>14783</td>\n",
       "      <td>35236</td>\n",
       "      <td>66750</td>\n",
       "      <td>63949</td>\n",
       "      <td>130699</td>\n",
       "    </tr>\n",
       "    <tr>\n",
       "      <th>1</th>\n",
       "      <td>2</td>\n",
       "      <td>CHENNAI</td>\n",
       "      <td>45046</td>\n",
       "      <td>54260</td>\n",
       "      <td>99306</td>\n",
       "      <td>80197</td>\n",
       "      <td>93383</td>\n",
       "      <td>173580</td>\n",
       "      <td>244490</td>\n",
       "      <td>222777</td>\n",
       "      <td>467267</td>\n",
       "      <td>369733</td>\n",
       "      <td>370420</td>\n",
       "      <td>740153</td>\n",
       "    </tr>\n",
       "    <tr>\n",
       "      <th>2</th>\n",
       "      <td>3</td>\n",
       "      <td>COIMBATORE</td>\n",
       "      <td>79306</td>\n",
       "      <td>85899</td>\n",
       "      <td>165205</td>\n",
       "      <td>34089</td>\n",
       "      <td>40627</td>\n",
       "      <td>74716</td>\n",
       "      <td>170440</td>\n",
       "      <td>154029</td>\n",
       "      <td>324469</td>\n",
       "      <td>283835</td>\n",
       "      <td>280555</td>\n",
       "      <td>564390</td>\n",
       "    </tr>\n",
       "    <tr>\n",
       "      <th>3</th>\n",
       "      <td>4</td>\n",
       "      <td>CUDDALORE</td>\n",
       "      <td>88116</td>\n",
       "      <td>96313</td>\n",
       "      <td>184429</td>\n",
       "      <td>37567</td>\n",
       "      <td>38850</td>\n",
       "      <td>76417</td>\n",
       "      <td>106990</td>\n",
       "      <td>81252</td>\n",
       "      <td>188242</td>\n",
       "      <td>232673</td>\n",
       "      <td>216415</td>\n",
       "      <td>449088</td>\n",
       "    </tr>\n",
       "    <tr>\n",
       "      <th>4</th>\n",
       "      <td>5</td>\n",
       "      <td>DHARMAPURI</td>\n",
       "      <td>80521</td>\n",
       "      <td>85207</td>\n",
       "      <td>165728</td>\n",
       "      <td>2763</td>\n",
       "      <td>1974</td>\n",
       "      <td>4737</td>\n",
       "      <td>58802</td>\n",
       "      <td>43665</td>\n",
       "      <td>102467</td>\n",
       "      <td>142086</td>\n",
       "      <td>130846</td>\n",
       "      <td>272932</td>\n",
       "    </tr>\n",
       "  </tbody>\n",
       "</table>\n",
       "</div>"
      ],
      "text/plain": [
       "  S.No    District  Govt Boys  Govt Girls  Govt Total  Private Aided Boys  \\\n",
       "0    1    ARIYALUR      37475       36642       74117                8822   \n",
       "1    2     CHENNAI      45046       54260       99306               80197   \n",
       "2    3  COIMBATORE      79306       85899      165205               34089   \n",
       "3    4   CUDDALORE      88116       96313      184429               37567   \n",
       "4    5  DHARMAPURI      80521       85207      165728                2763   \n",
       "\n",
       "   Private Aided Girls  Private Aided Total  Private Unaided Boys  \\\n",
       "0                12524                21346                 20453   \n",
       "1                93383               173580                244490   \n",
       "2                40627                74716                170440   \n",
       "3                38850                76417                106990   \n",
       "4                 1974                 4737                 58802   \n",
       "\n",
       "   Private Unaided Girls  Private Unaided Total  Grand Total Boys  \\\n",
       "0                  14783                  35236             66750   \n",
       "1                 222777                 467267            369733   \n",
       "2                 154029                 324469            283835   \n",
       "3                  81252                 188242            232673   \n",
       "4                  43665                 102467            142086   \n",
       "\n",
       "   Grand Total Girls  Grand Total   \n",
       "0              63949        130699  \n",
       "1             370420        740153  \n",
       "2             280555        564390  \n",
       "3             216415        449088  \n",
       "4             130846        272932  "
      ]
     },
     "execution_count": 5,
     "metadata": {},
     "output_type": "execute_result"
    }
   ],
   "source": [
    "gender.head()"
   ]
  },
  {
   "cell_type": "code",
   "execution_count": 6,
   "metadata": {},
   "outputs": [
    {
     "data": {
      "text/plain": [
       "(33, 14)"
      ]
     },
     "execution_count": 6,
     "metadata": {},
     "output_type": "execute_result"
    }
   ],
   "source": [
    "gender.shape"
   ]
  },
  {
   "cell_type": "markdown",
   "metadata": {},
   "source": [
    "### File with Location coordinates"
   ]
  },
  {
   "cell_type": "code",
   "execution_count": 14,
   "metadata": {},
   "outputs": [],
   "source": [
    "location=pd.read_excel('lat lon.xlsx')"
   ]
  },
  {
   "cell_type": "code",
   "execution_count": 15,
   "metadata": {},
   "outputs": [
    {
     "data": {
      "text/html": [
       "<div>\n",
       "<style scoped>\n",
       "    .dataframe tbody tr th:only-of-type {\n",
       "        vertical-align: middle;\n",
       "    }\n",
       "\n",
       "    .dataframe tbody tr th {\n",
       "        vertical-align: top;\n",
       "    }\n",
       "\n",
       "    .dataframe thead th {\n",
       "        text-align: right;\n",
       "    }\n",
       "</style>\n",
       "<table border=\"1\" class=\"dataframe\">\n",
       "  <thead>\n",
       "    <tr style=\"text-align: right;\">\n",
       "      <th></th>\n",
       "      <th>Location</th>\n",
       "      <th>Latitude</th>\n",
       "      <th>Longitude</th>\n",
       "    </tr>\n",
       "  </thead>\n",
       "  <tbody>\n",
       "    <tr>\n",
       "      <th>0</th>\n",
       "      <td>Adirampattinam</td>\n",
       "      <td>10° 21' N</td>\n",
       "      <td>79° 25' E</td>\n",
       "    </tr>\n",
       "    <tr>\n",
       "      <th>1</th>\n",
       "      <td>Ambasamudram</td>\n",
       "      <td>8° 43' N</td>\n",
       "      <td>77° 29' E</td>\n",
       "    </tr>\n",
       "    <tr>\n",
       "      <th>2</th>\n",
       "      <td>Ambur</td>\n",
       "      <td>21° 50' N</td>\n",
       "      <td>78° 45' E</td>\n",
       "    </tr>\n",
       "    <tr>\n",
       "      <th>3</th>\n",
       "      <td>Anaimalai Hills</td>\n",
       "      <td>10° 24' N</td>\n",
       "      <td>76° 40' E</td>\n",
       "    </tr>\n",
       "    <tr>\n",
       "      <th>4</th>\n",
       "      <td>Arakkonam</td>\n",
       "      <td>13° 05' N</td>\n",
       "      <td>79° 43' E</td>\n",
       "    </tr>\n",
       "  </tbody>\n",
       "</table>\n",
       "</div>"
      ],
      "text/plain": [
       "          Location   Latitude  Longitude\n",
       "0   Adirampattinam  10° 21' N  79° 25' E\n",
       "1     Ambasamudram   8° 43' N  77° 29' E\n",
       "2            Ambur  21° 50' N  78° 45' E\n",
       "3  Anaimalai Hills  10° 24' N  76° 40' E\n",
       "4        Arakkonam  13° 05' N  79° 43' E"
      ]
     },
     "execution_count": 15,
     "metadata": {},
     "output_type": "execute_result"
    }
   ],
   "source": [
    "location.head()"
   ]
  },
  {
   "cell_type": "markdown",
   "metadata": {},
   "source": [
    "## Cleaning Data"
   ]
  },
  {
   "cell_type": "code",
   "execution_count": 17,
   "metadata": {},
   "outputs": [
    {
     "data": {
      "text/html": [
       "<div>\n",
       "<style scoped>\n",
       "    .dataframe tbody tr th:only-of-type {\n",
       "        vertical-align: middle;\n",
       "    }\n",
       "\n",
       "    .dataframe tbody tr th {\n",
       "        vertical-align: top;\n",
       "    }\n",
       "\n",
       "    .dataframe thead th {\n",
       "        text-align: right;\n",
       "    }\n",
       "</style>\n",
       "<table border=\"1\" class=\"dataframe\">\n",
       "  <thead>\n",
       "    <tr style=\"text-align: right;\">\n",
       "      <th></th>\n",
       "      <th>Location</th>\n",
       "      <th>Latitude</th>\n",
       "      <th>Longitude</th>\n",
       "    </tr>\n",
       "  </thead>\n",
       "  <tbody>\n",
       "    <tr>\n",
       "      <th>0</th>\n",
       "      <td>Adirampattinam</td>\n",
       "      <td>10.21</td>\n",
       "      <td>79° 25' E</td>\n",
       "    </tr>\n",
       "    <tr>\n",
       "      <th>1</th>\n",
       "      <td>Ambasamudram</td>\n",
       "      <td>8.43</td>\n",
       "      <td>77° 29' E</td>\n",
       "    </tr>\n",
       "    <tr>\n",
       "      <th>2</th>\n",
       "      <td>Ambur</td>\n",
       "      <td>21.50</td>\n",
       "      <td>78° 45' E</td>\n",
       "    </tr>\n",
       "    <tr>\n",
       "      <th>3</th>\n",
       "      <td>Anaimalai Hills</td>\n",
       "      <td>10.24</td>\n",
       "      <td>76° 40' E</td>\n",
       "    </tr>\n",
       "    <tr>\n",
       "      <th>4</th>\n",
       "      <td>Arakkonam</td>\n",
       "      <td>13.05</td>\n",
       "      <td>79° 43' E</td>\n",
       "    </tr>\n",
       "  </tbody>\n",
       "</table>\n",
       "</div>"
      ],
      "text/plain": [
       "          Location Latitude  Longitude\n",
       "0   Adirampattinam    10.21  79° 25' E\n",
       "1     Ambasamudram     8.43  77° 29' E\n",
       "2            Ambur    21.50  78° 45' E\n",
       "3  Anaimalai Hills    10.24  76° 40' E\n",
       "4        Arakkonam    13.05  79° 43' E"
      ]
     },
     "execution_count": 17,
     "metadata": {},
     "output_type": "execute_result"
    }
   ],
   "source": [
    "location['Latitude']=location['Latitude'].str.replace(\"' N\",\"\")\n",
    "location.head()"
   ]
  },
  {
   "cell_type": "code",
   "execution_count": 23,
   "metadata": {},
   "outputs": [
    {
     "data": {
      "text/html": [
       "<div>\n",
       "<style scoped>\n",
       "    .dataframe tbody tr th:only-of-type {\n",
       "        vertical-align: middle;\n",
       "    }\n",
       "\n",
       "    .dataframe tbody tr th {\n",
       "        vertical-align: top;\n",
       "    }\n",
       "\n",
       "    .dataframe thead th {\n",
       "        text-align: right;\n",
       "    }\n",
       "</style>\n",
       "<table border=\"1\" class=\"dataframe\">\n",
       "  <thead>\n",
       "    <tr style=\"text-align: right;\">\n",
       "      <th></th>\n",
       "      <th>Location</th>\n",
       "      <th>Latitude</th>\n",
       "      <th>Longitude</th>\n",
       "    </tr>\n",
       "  </thead>\n",
       "  <tbody>\n",
       "    <tr>\n",
       "      <th>0</th>\n",
       "      <td>Adirampattinam</td>\n",
       "      <td>10.21</td>\n",
       "      <td>79.25</td>\n",
       "    </tr>\n",
       "    <tr>\n",
       "      <th>1</th>\n",
       "      <td>Ambasamudram</td>\n",
       "      <td>8.43</td>\n",
       "      <td>77.29</td>\n",
       "    </tr>\n",
       "    <tr>\n",
       "      <th>2</th>\n",
       "      <td>Ambur</td>\n",
       "      <td>21.50</td>\n",
       "      <td>78.45</td>\n",
       "    </tr>\n",
       "    <tr>\n",
       "      <th>3</th>\n",
       "      <td>Anaimalai Hills</td>\n",
       "      <td>10.24</td>\n",
       "      <td>76.40</td>\n",
       "    </tr>\n",
       "    <tr>\n",
       "      <th>4</th>\n",
       "      <td>Arakkonam</td>\n",
       "      <td>13.05</td>\n",
       "      <td>79.43</td>\n",
       "    </tr>\n",
       "  </tbody>\n",
       "</table>\n",
       "</div>"
      ],
      "text/plain": [
       "          Location  Latitude Longitude\n",
       "0   Adirampattinam     10.21     79.25\n",
       "1     Ambasamudram      8.43     77.29\n",
       "2            Ambur     21.50     78.45\n",
       "3  Anaimalai Hills     10.24     76.40\n",
       "4        Arakkonam     13.05     79.43"
      ]
     },
     "execution_count": 23,
     "metadata": {},
     "output_type": "execute_result"
    }
   ],
   "source": [
    "location['Longitude']=location['Longitude'].str.replace(\"°\",\".\")\n",
    "location.head()"
   ]
  },
  {
   "cell_type": "code",
   "execution_count": 20,
   "metadata": {},
   "outputs": [],
   "source": [
    "location['Latitude']=location['Latitude'].astype(float)"
   ]
  },
  {
   "cell_type": "code",
   "execution_count": 24,
   "metadata": {},
   "outputs": [],
   "source": [
    "location['Longitude']=location['Longitude'].astype(float)"
   ]
  },
  {
   "cell_type": "code",
   "execution_count": 25,
   "metadata": {},
   "outputs": [
    {
     "data": {
      "text/html": [
       "<div>\n",
       "<style scoped>\n",
       "    .dataframe tbody tr th:only-of-type {\n",
       "        vertical-align: middle;\n",
       "    }\n",
       "\n",
       "    .dataframe tbody tr th {\n",
       "        vertical-align: top;\n",
       "    }\n",
       "\n",
       "    .dataframe thead th {\n",
       "        text-align: right;\n",
       "    }\n",
       "</style>\n",
       "<table border=\"1\" class=\"dataframe\">\n",
       "  <thead>\n",
       "    <tr style=\"text-align: right;\">\n",
       "      <th></th>\n",
       "      <th>Location</th>\n",
       "      <th>Latitude</th>\n",
       "      <th>Longitude</th>\n",
       "    </tr>\n",
       "  </thead>\n",
       "  <tbody>\n",
       "    <tr>\n",
       "      <th>0</th>\n",
       "      <td>Adirampattinam</td>\n",
       "      <td>10.21</td>\n",
       "      <td>79.25</td>\n",
       "    </tr>\n",
       "    <tr>\n",
       "      <th>1</th>\n",
       "      <td>Ambasamudram</td>\n",
       "      <td>8.43</td>\n",
       "      <td>77.29</td>\n",
       "    </tr>\n",
       "    <tr>\n",
       "      <th>2</th>\n",
       "      <td>Ambur</td>\n",
       "      <td>21.50</td>\n",
       "      <td>78.45</td>\n",
       "    </tr>\n",
       "    <tr>\n",
       "      <th>3</th>\n",
       "      <td>Anaimalai Hills</td>\n",
       "      <td>10.24</td>\n",
       "      <td>76.40</td>\n",
       "    </tr>\n",
       "    <tr>\n",
       "      <th>4</th>\n",
       "      <td>Arakkonam</td>\n",
       "      <td>13.05</td>\n",
       "      <td>79.43</td>\n",
       "    </tr>\n",
       "  </tbody>\n",
       "</table>\n",
       "</div>"
      ],
      "text/plain": [
       "          Location  Latitude  Longitude\n",
       "0   Adirampattinam     10.21      79.25\n",
       "1     Ambasamudram      8.43      77.29\n",
       "2            Ambur     21.50      78.45\n",
       "3  Anaimalai Hills     10.24      76.40\n",
       "4        Arakkonam     13.05      79.43"
      ]
     },
     "execution_count": 25,
     "metadata": {},
     "output_type": "execute_result"
    }
   ],
   "source": [
    "location.head()"
   ]
  },
  {
   "cell_type": "code",
   "execution_count": 26,
   "metadata": {},
   "outputs": [],
   "source": [
    "gender['District']=gender['District'].str.replace(\" \",\"\")"
   ]
  },
  {
   "cell_type": "code",
   "execution_count": 27,
   "metadata": {},
   "outputs": [
    {
     "data": {
      "text/html": [
       "<div>\n",
       "<style scoped>\n",
       "    .dataframe tbody tr th:only-of-type {\n",
       "        vertical-align: middle;\n",
       "    }\n",
       "\n",
       "    .dataframe tbody tr th {\n",
       "        vertical-align: top;\n",
       "    }\n",
       "\n",
       "    .dataframe thead th {\n",
       "        text-align: right;\n",
       "    }\n",
       "</style>\n",
       "<table border=\"1\" class=\"dataframe\">\n",
       "  <thead>\n",
       "    <tr style=\"text-align: right;\">\n",
       "      <th></th>\n",
       "      <th>S.No</th>\n",
       "      <th>District</th>\n",
       "      <th>Govt Boys</th>\n",
       "      <th>Govt Girls</th>\n",
       "      <th>Govt Total</th>\n",
       "      <th>Private Aided Boys</th>\n",
       "      <th>Private Aided Girls</th>\n",
       "      <th>Private Aided Total</th>\n",
       "      <th>Private Unaided Boys</th>\n",
       "      <th>Private Unaided Girls</th>\n",
       "      <th>Private Unaided Total</th>\n",
       "      <th>Grand Total Boys</th>\n",
       "      <th>Grand Total Girls</th>\n",
       "      <th>Grand Total</th>\n",
       "    </tr>\n",
       "  </thead>\n",
       "  <tbody>\n",
       "    <tr>\n",
       "      <th>0</th>\n",
       "      <td>1</td>\n",
       "      <td>ARIYALUR</td>\n",
       "      <td>37475</td>\n",
       "      <td>36642</td>\n",
       "      <td>74117</td>\n",
       "      <td>8822</td>\n",
       "      <td>12524</td>\n",
       "      <td>21346</td>\n",
       "      <td>20453</td>\n",
       "      <td>14783</td>\n",
       "      <td>35236</td>\n",
       "      <td>66750</td>\n",
       "      <td>63949</td>\n",
       "      <td>130699</td>\n",
       "    </tr>\n",
       "    <tr>\n",
       "      <th>1</th>\n",
       "      <td>2</td>\n",
       "      <td>CHENNAI</td>\n",
       "      <td>45046</td>\n",
       "      <td>54260</td>\n",
       "      <td>99306</td>\n",
       "      <td>80197</td>\n",
       "      <td>93383</td>\n",
       "      <td>173580</td>\n",
       "      <td>244490</td>\n",
       "      <td>222777</td>\n",
       "      <td>467267</td>\n",
       "      <td>369733</td>\n",
       "      <td>370420</td>\n",
       "      <td>740153</td>\n",
       "    </tr>\n",
       "    <tr>\n",
       "      <th>2</th>\n",
       "      <td>3</td>\n",
       "      <td>COIMBATORE</td>\n",
       "      <td>79306</td>\n",
       "      <td>85899</td>\n",
       "      <td>165205</td>\n",
       "      <td>34089</td>\n",
       "      <td>40627</td>\n",
       "      <td>74716</td>\n",
       "      <td>170440</td>\n",
       "      <td>154029</td>\n",
       "      <td>324469</td>\n",
       "      <td>283835</td>\n",
       "      <td>280555</td>\n",
       "      <td>564390</td>\n",
       "    </tr>\n",
       "    <tr>\n",
       "      <th>3</th>\n",
       "      <td>4</td>\n",
       "      <td>CUDDALORE</td>\n",
       "      <td>88116</td>\n",
       "      <td>96313</td>\n",
       "      <td>184429</td>\n",
       "      <td>37567</td>\n",
       "      <td>38850</td>\n",
       "      <td>76417</td>\n",
       "      <td>106990</td>\n",
       "      <td>81252</td>\n",
       "      <td>188242</td>\n",
       "      <td>232673</td>\n",
       "      <td>216415</td>\n",
       "      <td>449088</td>\n",
       "    </tr>\n",
       "    <tr>\n",
       "      <th>4</th>\n",
       "      <td>5</td>\n",
       "      <td>DHARMAPURI</td>\n",
       "      <td>80521</td>\n",
       "      <td>85207</td>\n",
       "      <td>165728</td>\n",
       "      <td>2763</td>\n",
       "      <td>1974</td>\n",
       "      <td>4737</td>\n",
       "      <td>58802</td>\n",
       "      <td>43665</td>\n",
       "      <td>102467</td>\n",
       "      <td>142086</td>\n",
       "      <td>130846</td>\n",
       "      <td>272932</td>\n",
       "    </tr>\n",
       "  </tbody>\n",
       "</table>\n",
       "</div>"
      ],
      "text/plain": [
       "  S.No    District  Govt Boys  Govt Girls  Govt Total  Private Aided Boys  \\\n",
       "0    1    ARIYALUR      37475       36642       74117                8822   \n",
       "1    2     CHENNAI      45046       54260       99306               80197   \n",
       "2    3  COIMBATORE      79306       85899      165205               34089   \n",
       "3    4   CUDDALORE      88116       96313      184429               37567   \n",
       "4    5  DHARMAPURI      80521       85207      165728                2763   \n",
       "\n",
       "   Private Aided Girls  Private Aided Total  Private Unaided Boys  \\\n",
       "0                12524                21346                 20453   \n",
       "1                93383               173580                244490   \n",
       "2                40627                74716                170440   \n",
       "3                38850                76417                106990   \n",
       "4                 1974                 4737                 58802   \n",
       "\n",
       "   Private Unaided Girls  Private Unaided Total  Grand Total Boys  \\\n",
       "0                  14783                  35236             66750   \n",
       "1                 222777                 467267            369733   \n",
       "2                 154029                 324469            283835   \n",
       "3                  81252                 188242            232673   \n",
       "4                  43665                 102467            142086   \n",
       "\n",
       "   Grand Total Girls  Grand Total   \n",
       "0              63949        130699  \n",
       "1             370420        740153  \n",
       "2             280555        564390  \n",
       "3             216415        449088  \n",
       "4             130846        272932  "
      ]
     },
     "execution_count": 27,
     "metadata": {},
     "output_type": "execute_result"
    }
   ],
   "source": [
    "gender.head()"
   ]
  },
  {
   "cell_type": "code",
   "execution_count": 132,
   "metadata": {},
   "outputs": [],
   "source": [
    "gender.drop(index=32,inplace=True)"
   ]
  },
  {
   "cell_type": "code",
   "execution_count": 121,
   "metadata": {},
   "outputs": [],
   "source": [
    "import matplotlib.pyplot as plt"
   ]
  },
  {
   "cell_type": "code",
   "execution_count": 152,
   "metadata": {},
   "outputs": [
    {
     "data": {
      "text/plain": [
       "<matplotlib.axes._subplots.AxesSubplot at 0x7f7564881198>"
      ]
     },
     "execution_count": 152,
     "metadata": {},
     "output_type": "execute_result"
    },
    {
     "data": {
      "image/png": "[encoded data removed]",
      "text/plain": [
       "<Figure size 1152x720 with 1 Axes>"
      ]
     },
     "metadata": {
      "needs_background": "light"
     },
     "output_type": "display_data"
    }
   ],
   "source": [
    "data=gender[['District','Grand Total ']]\n",
    "data.set_index('District').plot(kind='bar',figsize=(16,10),tick_label=gender['District'])"
   ]
  },
  {
   "cell_type": "code",
   "execution_count": 181,
   "metadata": {},
   "outputs": [
    {
     "data": {
      "text/plain": [
       "<matplotlib.axes._subplots.AxesSubplot at 0x7f756221cf98>"
      ]
     },
     "execution_count": 181,
     "metadata": {},
     "output_type": "execute_result"
    },
    {
     "data": {
      "image/png": "[encoded data removed]",
      "text/plain": [
       "<Figure size 1152x720 with 1 Axes>"
      ]
     },
     "metadata": {
      "needs_background": "light"
     },
     "output_type": "display_data"
    }
   ],
   "source": [
    "data.set_index('District').plot(kind='hist',figsize=(16,10))"
   ]
  },
  {
   "cell_type": "code",
   "execution_count": 171,
   "metadata": {},
   "outputs": [
    {
     "data": {
      "text/plain": [
       "12331525"
      ]
     },
     "execution_count": 171,
     "metadata": {},
     "output_type": "execute_result"
    }
   ],
   "source": [
    "sum=gender['Grand Total '].sum()\n",
    "sum"
   ]
  },
  {
   "cell_type": "code",
   "execution_count": 156,
   "metadata": {},
   "outputs": [
    {
     "data": {
      "text/plain": [
       "Index(['S.No', 'District', 'Govt Boys', 'Govt Girls', 'Govt Total',\n",
       "       'Private Aided Boys', 'Private Aided Girls', 'Private Aided Total',\n",
       "       'Private Unaided Boys', 'Private Unaided Girls',\n",
       "       'Private Unaided Total', 'Grand Total Boys', 'Grand Total Girls',\n",
       "       'Grand Total ', 'lat', 'lon'],\n",
       "      dtype='object')"
      ]
     },
     "execution_count": 156,
     "metadata": {},
     "output_type": "execute_result"
    }
   ],
   "source": [
    "gender.columns"
   ]
  },
  {
   "cell_type": "code",
   "execution_count": 161,
   "metadata": {},
   "outputs": [
    {
     "data": {
      "text/plain": [
       "<matplotlib.axes._subplots.AxesSubplot at 0x7f75624f6ac8>"
      ]
     },
     "execution_count": 161,
     "metadata": {},
     "output_type": "execute_result"
    },
    {
     "data": {
      "image/png": "[encoded data removed]",
      "text/plain": [
       "<Figure size 1152x720 with 1 Axes>"
      ]
     },
     "metadata": {
      "needs_background": "light"
     },
     "output_type": "display_data"
    }
   ],
   "source": [
    "box=gender[['District','Govt Total','Private Aided Total','Private Unaided Total']]\n",
    "box.plot(kind='box',figsize=(16,10))"
   ]
  },
  {
   "cell_type": "code",
   "execution_count": 162,
   "metadata": {},
   "outputs": [
    {
     "data": {
      "text/plain": [
       "<matplotlib.axes._subplots.AxesSubplot at 0x7f756247f0b8>"
      ]
     },
     "execution_count": 162,
     "metadata": {},
     "output_type": "execute_result"
    },
    {
     "data": {
      "image/png": "[encoded data removed]",
      "text/plain": [
       "<Figure size 1152x720 with 1 Axes>"
      ]
     },
     "metadata": {
      "needs_background": "light"
     },
     "output_type": "display_data"
    }
   ],
   "source": [
    "genbox=gender[['Govt Boys','Govt Girls','Private Aided Boys','Private Aided Girls','Private Unaided Boys','Private Unaided Girls','Grand Total Boys','Grand Total Girls']]\n",
    "genbox.plot(kind='box',figsize=(16,10))"
   ]
  },
  {
   "cell_type": "code",
   "execution_count": 28,
   "metadata": {},
   "outputs": [],
   "source": [
    "location['Location']=location['Location'].str.replace(\" \",\"\")"
   ]
  },
  {
   "cell_type": "markdown",
   "metadata": {},
   "source": [
    "## Checking Values in specific columns that are to be matched"
   ]
  },
  {
   "cell_type": "code",
   "execution_count": 163,
   "metadata": {},
   "outputs": [
    {
     "data": {
      "text/plain": [
       "array(['ARIYALUR', 'CHENNAI', 'COIMBATORE', 'CUDDALORE', 'Dharapuram',\n",
       "       'DINDIGUL', 'ERODE', 'Kanchipuram', 'KANNIYAKUMARI', 'KARUR',\n",
       "       'Krishnagiri', 'Madurantakam', 'NagarjunasagarDam', 'NAMAKKAL',\n",
       "       'PERAMBALUR', 'Pudukkottal', 'RAMANATHAPURAM', 'SALEM',\n",
       "       'SIVAGANGA', 'THANJAVUR', 'THENILGIRIS', 'THENI', 'THIRUVALLUR',\n",
       "       'THIRUVARUR', 'THOOTHUKKUDI', 'Tiruchchirappalli',\n",
       "       'Tiruchchirappalli', 'Tiruchchirappalli', 'Tiruppur', 'VELLORE',\n",
       "       'VILUPPURAM', 'VIRUDHUNAGAR'], dtype=object)"
      ]
     },
     "execution_count": 163,
     "metadata": {},
     "output_type": "execute_result"
    }
   ],
   "source": [
    "gender['District'].values"
   ]
  },
  {
   "cell_type": "code",
   "execution_count": 44,
   "metadata": {},
   "outputs": [
    {
     "data": {
      "text/plain": [
       "'AMB'"
      ]
     },
     "execution_count": 44,
     "metadata": {},
     "output_type": "execute_result"
    }
   ],
   "source": [
    "location.iloc[1,0].upper()[:3]"
   ]
  },
  {
   "cell_type": "code",
   "execution_count": 23,
   "metadata": {},
   "outputs": [
    {
     "data": {
      "text/plain": [
       "(110, 3)"
      ]
     },
     "execution_count": 23,
     "metadata": {},
     "output_type": "execute_result"
    }
   ],
   "source": [
    "location.shape"
   ]
  },
  {
   "cell_type": "code",
   "execution_count": 31,
   "metadata": {},
   "outputs": [
    {
     "data": {
      "text/plain": [
       "array(['Adirampattinam', 'Ambasamudram', 'Ambur', 'AnaimalaiHills',\n",
       "       'Arakkonam', 'Arantangi', 'Arcot', 'Arni', 'Aruppukkotai', 'Attur',\n",
       "       'Atur', 'Bodinayakkanur', 'Calimere,Point', 'Carnatic',\n",
       "       'Chidambaram', 'Chingleput', 'Coimbatore', 'Comorin,C.',\n",
       "       'CoromandelCoast', 'Cuddalore', 'Devakottai', 'Dhanushkodi',\n",
       "       'Dharapuram', 'Dharmapuri', 'Dindigul', 'Dodabetta.Mt.', 'Ennore',\n",
       "       'Erode', 'FortStDavid', 'FortStGeorge', 'Gudiyatam', 'Hospur',\n",
       "       'Jalarpet', 'Javadihills', 'Kanchipuram', 'Karur', 'KaveriR.',\n",
       "       'Kayalpatnam', 'Kilakarai', 'Kodaikanal', 'Krishnagiri',\n",
       "       'Kumbakonam', 'Madras(Chennai)', 'Madurai', 'Madurantakam',\n",
       "       'Mahabalipuram', 'Mannargudi', 'Mayuram', 'Mettupalaiyam',\n",
       "       'MetturDam', 'NagarjunasagarDam', 'Nagercoil', 'Namakkal',\n",
       "       'Nanguneri', 'Neiveli', 'PachaimalaiHills', 'Padmanabhapuram',\n",
       "       'Palayankottal', 'Palladam', 'Pallavaram', 'Pallivasal',\n",
       "       'PalniHills', 'Panruti', 'Paramakkudi', 'Pattukkottal',\n",
       "       'Perambalur', 'Periyakulam', 'Pollachi', 'Ponneri', 'PortoNovo',\n",
       "       'Pudukkottal', 'Pulicat,L.', 'Rajapalayam', 'Ramanathapuram',\n",
       "       'Rameswaram', 'Salem', 'Sankaranayinarkovil', 'Sattur',\n",
       "       'Satyamangalam', 'SevenPagodas', 'shencottah', 'shevaroyHills',\n",
       "       'St.ThomasMount', 'Tenkasi', 'Thanjavur(Tanjore)', 'Tindivanam',\n",
       "       'Tiruchchirappalli', 'Tiruchendur', 'Tiruchengodu', 'Tirukkoyilur',\n",
       "       'Tirumangalam', 'Tirunelveli', 'Tiruppur', 'Tiruvallur',\n",
       "       'Tiruvannamalai', 'Tondi', 'Tranquebar', 'Turaiyur', 'Tuticorin',\n",
       "       'Udagamandalam', 'Udamalpet', 'Udiyarpalaiyam', 'Uttangarai',\n",
       "       'Vaniyambadi', 'Vellore', 'Villupuram', 'Virudhunagar',\n",
       "       'Vriddhachalam', 'Wandiwash', 'Yercaud'], dtype=object)"
      ]
     },
     "execution_count": 31,
     "metadata": {},
     "output_type": "execute_result"
    }
   ],
   "source": [
    "location['Location'].values"
   ]
  },
  {
   "cell_type": "code",
   "execution_count": 120,
   "metadata": {},
   "outputs": [
    {
     "name": "stdout",
     "output_type": "stream",
     "text": [
      "      Location  Latitude  Longitude\n",
      "22  Dharapuram     10.45      77.34\n"
     ]
    }
   ],
   "source": [
    "print(location[location['Location'].str.contains(\"Dharapuram\")])"
   ]
  },
  {
   "cell_type": "code",
   "execution_count": 34,
   "metadata": {},
   "outputs": [
    {
     "name": "stdout",
     "output_type": "stream",
     "text": [
      "           Location  Latitude  Longitude\n",
      "42  Madras(Chennai)     13.04      80.17\n"
     ]
    }
   ],
   "source": [
    "print(location[location['Location'].str.contains(\"Chennai\")])"
   ]
  },
  {
   "cell_type": "code",
   "execution_count": 35,
   "metadata": {},
   "outputs": [],
   "source": [
    "location.iloc[42,0]='Chennai'"
   ]
  },
  {
   "cell_type": "code",
   "execution_count": 36,
   "metadata": {},
   "outputs": [
    {
     "name": "stdout",
     "output_type": "stream",
     "text": [
      "CHENNAI CHENNAI\n",
      "COIMBATORE COIMBATORE\n",
      "CUDDALORE CUDDALORE\n",
      "DHARMAPURI DHARMAPURI\n",
      "DINDIGUL DINDIGUL\n",
      "ERODE ERODE\n",
      "KARUR KARUR\n",
      "MADURAI MADURAI\n",
      "NAMAKKAL NAMAKKAL\n",
      "PERAMBALUR PERAMBALUR\n",
      "RAMANATHAPURAM RAMANATHAPURAM\n",
      "SALEM SALEM\n",
      "THANJAVUR THANJAVUR\n",
      "TIRUNELVELI TIRUNELVELI\n",
      "TIRUVANNAMALAI TIRUVANNAMALAI\n",
      "VELLORE VELLORE\n",
      "VIRUDHUNAGAR VIRUDHUNAGAR\n"
     ]
    }
   ],
   "source": [
    "for i in gender.index:\n",
    "    for j in location.index:\n",
    "        if(gender.iloc[i,1]==location.iloc[j,0].upper()):\n",
    "            print(gender.iloc[i,1],location.iloc[j,0].upper())"
   ]
  },
  {
   "cell_type": "markdown",
   "metadata": {},
   "source": [
    "## For loop that identifies Place names with spelling Errors to a small extent"
   ]
  },
  {
   "cell_type": "code",
   "execution_count": 37,
   "metadata": {},
   "outputs": [
    {
     "name": "stdout",
     "output_type": "stream",
     "text": [
      "CHENNAI CHENNAI\n",
      "COIMBATORE COIMBATORE\n",
      "CUDDALORE CUDDALORE\n",
      "Dhara Dhara\n",
      "DINDIGUL DINDIGUL\n",
      "ERODE ERODE\n",
      "Kanchi Kanchi\n",
      "KARUR KARUR\n",
      "Krishn Krishn\n",
      "MADURAI MADURAI\n",
      "Maduran Maduran\n",
      "Nagar Nagar\n",
      "NAMAKKAL NAMAKKAL\n",
      "PERAMBALUR PERAMBALUR\n",
      "Pudukkottal Pudukkottal\n",
      "RAMANATHAPURAM RAMANATHAPURAM\n",
      "SALEM SALEM\n",
      "THANJAVUR THANJAVUR\n",
      "Tiruchc Tiruchc\n",
      "Tiruc Tiruc\n",
      "Tiruc Tiruc\n",
      "VELLORE VELLORE\n",
      "VIRUDHUNAGAR VIRUDHUNAGAR\n"
     ]
    }
   ],
   "source": [
    "for i in gender.index:\n",
    "    for j in location.index:\n",
    "        if(gender.iloc[i,1]==location.iloc[j,0].upper()):\n",
    "            print(gender.iloc[i,1],location.iloc[j,0].upper())\n",
    "        else:\n",
    "            l=len(gender.iloc[i,1])\n",
    "            while(l!=0):\n",
    "                if(gender.iloc[i,1][:l-1]==location.iloc[j,0].upper()[:l-1]) & (gender.iloc[i,1][:l]!=location.iloc[j,0].upper()[:l]):\n",
    "                    if(l>4):\n",
    "                        gender.iloc[i,1]=location.iloc[j,0]\n",
    "                        print(gender.iloc[i,1][:l],location.iloc[j,0][:l])\n",
    "                l=l-1\n",
    "            \n",
    "                #if(gender.iloc[i,1][:k]==location.iloc[j,0].upper()[:k]) & (gender.iloc[i,1][:k+1]!=location.iloc[j,0].upper()[:k+1]):\n",
    "                 #   print(gender.iloc[i,1][:k],location.iloc[j,0].upper()[:k])"
   ]
  },
  {
   "cell_type": "code",
   "execution_count": 38,
   "metadata": {},
   "outputs": [],
   "source": [
    "lat=[]\n",
    "for i in gender.index:\n",
    "    lat.append(None)"
   ]
  },
  {
   "cell_type": "code",
   "execution_count": 39,
   "metadata": {},
   "outputs": [],
   "source": [
    "for i in gender.index:\n",
    "    for j in location.index:\n",
    "        if(gender.iloc[i,1]==location.iloc[j,0].upper()):\n",
    "            lat[i]=location.iloc[j,1]"
   ]
  },
  {
   "cell_type": "code",
   "execution_count": 40,
   "metadata": {},
   "outputs": [],
   "source": [
    "gender['lat']=lat"
   ]
  },
  {
   "cell_type": "code",
   "execution_count": 41,
   "metadata": {},
   "outputs": [],
   "source": [
    "lon=[]\n",
    "for i in gender.index:\n",
    "    lon.append(None)"
   ]
  },
  {
   "cell_type": "code",
   "execution_count": 42,
   "metadata": {},
   "outputs": [],
   "source": [
    "for i in gender.index:\n",
    "    for j in location.index:\n",
    "        if(gender.iloc[i,1]==location.iloc[j,0].upper()):\n",
    "            lon[i]=location.iloc[j,2]"
   ]
  },
  {
   "cell_type": "code",
   "execution_count": 43,
   "metadata": {},
   "outputs": [],
   "source": [
    "gender['lon']=lon"
   ]
  },
  {
   "cell_type": "code",
   "execution_count": 44,
   "metadata": {},
   "outputs": [
    {
     "data": {
      "text/html": [
       "<div>\n",
       "<style scoped>\n",
       "    .dataframe tbody tr th:only-of-type {\n",
       "        vertical-align: middle;\n",
       "    }\n",
       "\n",
       "    .dataframe tbody tr th {\n",
       "        vertical-align: top;\n",
       "    }\n",
       "\n",
       "    .dataframe thead th {\n",
       "        text-align: right;\n",
       "    }\n",
       "</style>\n",
       "<table border=\"1\" class=\"dataframe\">\n",
       "  <thead>\n",
       "    <tr style=\"text-align: right;\">\n",
       "      <th></th>\n",
       "      <th>S.No</th>\n",
       "      <th>District</th>\n",
       "      <th>Govt Boys</th>\n",
       "      <th>Govt Girls</th>\n",
       "      <th>Govt Total</th>\n",
       "      <th>Private Aided Boys</th>\n",
       "      <th>Private Aided Girls</th>\n",
       "      <th>Private Aided Total</th>\n",
       "      <th>Private Unaided Boys</th>\n",
       "      <th>Private Unaided Girls</th>\n",
       "      <th>Private Unaided Total</th>\n",
       "      <th>Grand Total Boys</th>\n",
       "      <th>Grand Total Girls</th>\n",
       "      <th>Grand Total</th>\n",
       "      <th>lat</th>\n",
       "      <th>lon</th>\n",
       "    </tr>\n",
       "  </thead>\n",
       "  <tbody>\n",
       "    <tr>\n",
       "      <th>0</th>\n",
       "      <td>1</td>\n",
       "      <td>ARIYALUR</td>\n",
       "      <td>37475</td>\n",
       "      <td>36642</td>\n",
       "      <td>74117</td>\n",
       "      <td>8822</td>\n",
       "      <td>12524</td>\n",
       "      <td>21346</td>\n",
       "      <td>20453</td>\n",
       "      <td>14783</td>\n",
       "      <td>35236</td>\n",
       "      <td>66750</td>\n",
       "      <td>63949</td>\n",
       "      <td>130699</td>\n",
       "      <td>NaN</td>\n",
       "      <td>NaN</td>\n",
       "    </tr>\n",
       "    <tr>\n",
       "      <th>1</th>\n",
       "      <td>2</td>\n",
       "      <td>CHENNAI</td>\n",
       "      <td>45046</td>\n",
       "      <td>54260</td>\n",
       "      <td>99306</td>\n",
       "      <td>80197</td>\n",
       "      <td>93383</td>\n",
       "      <td>173580</td>\n",
       "      <td>244490</td>\n",
       "      <td>222777</td>\n",
       "      <td>467267</td>\n",
       "      <td>369733</td>\n",
       "      <td>370420</td>\n",
       "      <td>740153</td>\n",
       "      <td>13.04</td>\n",
       "      <td>80.17</td>\n",
       "    </tr>\n",
       "    <tr>\n",
       "      <th>2</th>\n",
       "      <td>3</td>\n",
       "      <td>COIMBATORE</td>\n",
       "      <td>79306</td>\n",
       "      <td>85899</td>\n",
       "      <td>165205</td>\n",
       "      <td>34089</td>\n",
       "      <td>40627</td>\n",
       "      <td>74716</td>\n",
       "      <td>170440</td>\n",
       "      <td>154029</td>\n",
       "      <td>324469</td>\n",
       "      <td>283835</td>\n",
       "      <td>280555</td>\n",
       "      <td>564390</td>\n",
       "      <td>11.00</td>\n",
       "      <td>77.00</td>\n",
       "    </tr>\n",
       "    <tr>\n",
       "      <th>3</th>\n",
       "      <td>4</td>\n",
       "      <td>CUDDALORE</td>\n",
       "      <td>88116</td>\n",
       "      <td>96313</td>\n",
       "      <td>184429</td>\n",
       "      <td>37567</td>\n",
       "      <td>38850</td>\n",
       "      <td>76417</td>\n",
       "      <td>106990</td>\n",
       "      <td>81252</td>\n",
       "      <td>188242</td>\n",
       "      <td>232673</td>\n",
       "      <td>216415</td>\n",
       "      <td>449088</td>\n",
       "      <td>11.43</td>\n",
       "      <td>79.49</td>\n",
       "    </tr>\n",
       "    <tr>\n",
       "      <th>4</th>\n",
       "      <td>5</td>\n",
       "      <td>Dharapuram</td>\n",
       "      <td>80521</td>\n",
       "      <td>85207</td>\n",
       "      <td>165728</td>\n",
       "      <td>2763</td>\n",
       "      <td>1974</td>\n",
       "      <td>4737</td>\n",
       "      <td>58802</td>\n",
       "      <td>43665</td>\n",
       "      <td>102467</td>\n",
       "      <td>142086</td>\n",
       "      <td>130846</td>\n",
       "      <td>272932</td>\n",
       "      <td>NaN</td>\n",
       "      <td>NaN</td>\n",
       "    </tr>\n",
       "  </tbody>\n",
       "</table>\n",
       "</div>"
      ],
      "text/plain": [
       "  S.No    District  Govt Boys  Govt Girls  Govt Total  Private Aided Boys  \\\n",
       "0    1    ARIYALUR      37475       36642       74117                8822   \n",
       "1    2     CHENNAI      45046       54260       99306               80197   \n",
       "2    3  COIMBATORE      79306       85899      165205               34089   \n",
       "3    4   CUDDALORE      88116       96313      184429               37567   \n",
       "4    5  Dharapuram      80521       85207      165728                2763   \n",
       "\n",
       "   Private Aided Girls  Private Aided Total  Private Unaided Boys  \\\n",
       "0                12524                21346                 20453   \n",
       "1                93383               173580                244490   \n",
       "2                40627                74716                170440   \n",
       "3                38850                76417                106990   \n",
       "4                 1974                 4737                 58802   \n",
       "\n",
       "   Private Unaided Girls  Private Unaided Total  Grand Total Boys  \\\n",
       "0                  14783                  35236             66750   \n",
       "1                 222777                 467267            369733   \n",
       "2                 154029                 324469            283835   \n",
       "3                  81252                 188242            232673   \n",
       "4                  43665                 102467            142086   \n",
       "\n",
       "   Grand Total Girls  Grand Total     lat    lon  \n",
       "0              63949        130699    NaN    NaN  \n",
       "1             370420        740153  13.04  80.17  \n",
       "2             280555        564390  11.00  77.00  \n",
       "3             216415        449088  11.43  79.49  \n",
       "4             130846        272932    NaN    NaN  "
      ]
     },
     "execution_count": 44,
     "metadata": {},
     "output_type": "execute_result"
    }
   ],
   "source": [
    "gender.head()"
   ]
  },
  {
   "cell_type": "code",
   "execution_count": 46,
   "metadata": {},
   "outputs": [
    {
     "data": {
      "text/plain": [
       "(33, 5)"
      ]
     },
     "execution_count": 46,
     "metadata": {},
     "output_type": "execute_result"
    }
   ],
   "source": [
    "gen=gender[['District','Grand Total Boys','Grand Total Girls','lat','lon']]\n",
    "gen.shape"
   ]
  },
  {
   "cell_type": "code",
   "execution_count": 47,
   "metadata": {},
   "outputs": [
    {
     "name": "stderr",
     "output_type": "stream",
     "text": [
      "/home/jupyterlab/conda/envs/python/lib/python3.6/site-packages/ipykernel_launcher.py:1: SettingWithCopyWarning: \n",
      "A value is trying to be set on a copy of a slice from a DataFrame\n",
      "\n",
      "See the caveats in the documentation: https://pandas.pydata.org/pandas-docs/stable/user_guide/indexing.html#returning-a-view-versus-a-copy\n",
      "  \"\"\"Entry point for launching an IPython kernel.\n"
     ]
    }
   ],
   "source": [
    "gen.dropna(subset=['lat'],axis=0,inplace=True)"
   ]
  },
  {
   "cell_type": "code",
   "execution_count": 48,
   "metadata": {},
   "outputs": [
    {
     "data": {
      "text/html": [
       "<div>\n",
       "<style scoped>\n",
       "    .dataframe tbody tr th:only-of-type {\n",
       "        vertical-align: middle;\n",
       "    }\n",
       "\n",
       "    .dataframe tbody tr th {\n",
       "        vertical-align: top;\n",
       "    }\n",
       "\n",
       "    .dataframe thead th {\n",
       "        text-align: right;\n",
       "    }\n",
       "</style>\n",
       "<table border=\"1\" class=\"dataframe\">\n",
       "  <thead>\n",
       "    <tr style=\"text-align: right;\">\n",
       "      <th></th>\n",
       "      <th>District</th>\n",
       "      <th>Grand Total Boys</th>\n",
       "      <th>Grand Total Girls</th>\n",
       "      <th>lat</th>\n",
       "      <th>lon</th>\n",
       "    </tr>\n",
       "  </thead>\n",
       "  <tbody>\n",
       "    <tr>\n",
       "      <th>0</th>\n",
       "      <td>CHENNAI</td>\n",
       "      <td>369733</td>\n",
       "      <td>370420</td>\n",
       "      <td>13.04</td>\n",
       "      <td>80.17</td>\n",
       "    </tr>\n",
       "    <tr>\n",
       "      <th>1</th>\n",
       "      <td>COIMBATORE</td>\n",
       "      <td>283835</td>\n",
       "      <td>280555</td>\n",
       "      <td>11.00</td>\n",
       "      <td>77.00</td>\n",
       "    </tr>\n",
       "    <tr>\n",
       "      <th>2</th>\n",
       "      <td>CUDDALORE</td>\n",
       "      <td>232673</td>\n",
       "      <td>216415</td>\n",
       "      <td>11.43</td>\n",
       "      <td>79.49</td>\n",
       "    </tr>\n",
       "    <tr>\n",
       "      <th>3</th>\n",
       "      <td>DINDIGUL</td>\n",
       "      <td>178282</td>\n",
       "      <td>170371</td>\n",
       "      <td>10.22</td>\n",
       "      <td>78.00</td>\n",
       "    </tr>\n",
       "    <tr>\n",
       "      <th>4</th>\n",
       "      <td>ERODE</td>\n",
       "      <td>174942</td>\n",
       "      <td>168101</td>\n",
       "      <td>11.20</td>\n",
       "      <td>77.46</td>\n",
       "    </tr>\n",
       "    <tr>\n",
       "      <th>5</th>\n",
       "      <td>KARUR</td>\n",
       "      <td>84349</td>\n",
       "      <td>81224</td>\n",
       "      <td>10.58</td>\n",
       "      <td>78.07</td>\n",
       "    </tr>\n",
       "    <tr>\n",
       "      <th>6</th>\n",
       "      <td>NAMAKKAL</td>\n",
       "      <td>147203</td>\n",
       "      <td>133677</td>\n",
       "      <td>11.13</td>\n",
       "      <td>78.13</td>\n",
       "    </tr>\n",
       "    <tr>\n",
       "      <th>7</th>\n",
       "      <td>PERAMBALUR</td>\n",
       "      <td>55782</td>\n",
       "      <td>50702</td>\n",
       "      <td>11.14</td>\n",
       "      <td>78.56</td>\n",
       "    </tr>\n",
       "    <tr>\n",
       "      <th>8</th>\n",
       "      <td>RAMANATHAPURAM</td>\n",
       "      <td>110780</td>\n",
       "      <td>110029</td>\n",
       "      <td>9.22</td>\n",
       "      <td>78.52</td>\n",
       "    </tr>\n",
       "    <tr>\n",
       "      <th>9</th>\n",
       "      <td>SALEM</td>\n",
       "      <td>299710</td>\n",
       "      <td>282766</td>\n",
       "      <td>11.39</td>\n",
       "      <td>78.12</td>\n",
       "    </tr>\n",
       "    <tr>\n",
       "      <th>10</th>\n",
       "      <td>THANJAVUR</td>\n",
       "      <td>204678</td>\n",
       "      <td>202486</td>\n",
       "      <td>10.47</td>\n",
       "      <td>79.10</td>\n",
       "    </tr>\n",
       "    <tr>\n",
       "      <th>11</th>\n",
       "      <td>VELLORE</td>\n",
       "      <td>330670</td>\n",
       "      <td>322668</td>\n",
       "      <td>12.55</td>\n",
       "      <td>79.11</td>\n",
       "    </tr>\n",
       "    <tr>\n",
       "      <th>12</th>\n",
       "      <td>VIRUDHUNAGAR</td>\n",
       "      <td>167977</td>\n",
       "      <td>167713</td>\n",
       "      <td>9.35</td>\n",
       "      <td>77.57</td>\n",
       "    </tr>\n",
       "  </tbody>\n",
       "</table>\n",
       "</div>"
      ],
      "text/plain": [
       "          District  Grand Total Boys  Grand Total Girls    lat    lon\n",
       "0          CHENNAI            369733             370420  13.04  80.17\n",
       "1       COIMBATORE            283835             280555  11.00  77.00\n",
       "2        CUDDALORE            232673             216415  11.43  79.49\n",
       "3         DINDIGUL            178282             170371  10.22  78.00\n",
       "4            ERODE            174942             168101  11.20  77.46\n",
       "5            KARUR             84349              81224  10.58  78.07\n",
       "6         NAMAKKAL            147203             133677  11.13  78.13\n",
       "7       PERAMBALUR             55782              50702  11.14  78.56\n",
       "8   RAMANATHAPURAM            110780             110029   9.22  78.52\n",
       "9            SALEM            299710             282766  11.39  78.12\n",
       "10       THANJAVUR            204678             202486  10.47  79.10\n",
       "11         VELLORE            330670             322668  12.55  79.11\n",
       "12    VIRUDHUNAGAR            167977             167713   9.35  77.57"
      ]
     },
     "execution_count": 48,
     "metadata": {},
     "output_type": "execute_result"
    }
   ],
   "source": [
    "gen.reset_index(drop=True)"
   ]
  },
  {
   "cell_type": "markdown",
   "metadata": {},
   "source": [
    "# Visualising the Data"
   ]
  },
  {
   "cell_type": "code",
   "execution_count": 117,
   "metadata": {},
   "outputs": [],
   "source": [
    "import folium\n",
    "map=folium.Map(location=[11.12,78.65],zoom_start=6)"
   ]
  },
  {
   "cell_type": "code",
   "execution_count": 118,
   "metadata": {},
   "outputs": [
    {
     "data": {
      "text/html": [
       "<div style=\"width:100%;\"><div style=\"position:relative;width:100%;height:0;padding-bottom:60%;\"><iframe src=\"data:text/html;charset=utf-8;base64,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\" style=\"position:absolute;width:100%;height:100%;left:0;top:0;border:none !important;\" allowfullscreen webkitallowfullscreen mozallowfullscreen></iframe></div></div>"
      ],
      "text/plain": [
       "<folium.folium.Map at 0x7f75495a6860>"
      ]
     },
     "execution_count": 118,
     "metadata": {},
     "output_type": "execute_result"
    }
   ],
   "source": [
    "for i in range(0,len(gen)):\n",
    "    folium.CircleMarker(\n",
    "      location=[gen.iloc[i]['lat'], gen.iloc[i]['lon']],\n",
    "      popup=gen.iloc[i]['District'],\n",
    "      label=gen.iloc[i]['District'],\n",
    "      radius=float(gen.iloc[i]['Grand Total Boys']/10000),\n",
    "      color='blue',fill=True).add_to(map)\n",
    "    \n",
    "for i in range(0,len(gen)):\n",
    "    folium.CircleMarker(\n",
    "      location=[gen.iloc[i]['lat'], gen.iloc[i]['lon']],\n",
    "      popup=gen.iloc[i]['District'],\n",
    "      radius=float(gen.iloc[i]['Grand Total Girls']/10000),\n",
    "      color='red',fill=True).add_to(map)\n",
    "\n",
    "map"
   ]
  }
 ],
 "metadata": {
  "kernelspec": {
   "display_name": "Python",
   "language": "python",
   "name": "conda-env-python-py"
  },
  "language_info": {
   "codemirror_mode": {
    "name": "ipython",
    "version": 3
   },
   "file_extension": ".py",
   "mimetype": "text/x-python",
   "name": "python",
   "nbconvert_exporter": "python",
   "pygments_lexer": "ipython3",
   "version": "3.6.7"
  }
 },
 "nbformat": 4,
 "nbformat_minor": 4
}
